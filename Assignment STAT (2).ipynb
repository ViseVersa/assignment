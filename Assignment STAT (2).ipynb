{
 "cells": [
  {
   "cell_type": "code",
   "execution_count": 2,
   "id": "9565cdeb",
   "metadata": {},
   "outputs": [],
   "source": [
    "import requests\n",
    "import pandas as pd\n",
    "\n",
    "# Function to fetch data from API\n",
    "def fetch_data(api_url):\n",
    "    response = requests.get(api_url)\n",
    "    if response.status_code == 200:\n",
    "        return response.json()\n",
    "    else:\n",
    "        print(f\"Error fetching data: {response.status_code}\")\n",
    "        return None\n",
    "\n",
    "# API URLs\n",
    "expiries_api = \"https://live.markethound.in/api/history/expiries?index=FINNIFTY\"\n",
    "decay_api = \"https://live.markethound.in/api/history/decay?name=FINNIFTY&expiry=2024-03-05T00:00:00.000Z&dte=0\"\n",
    "\n",
    "# Fetching data\n",
    "expiries_data = fetch_data(expiries_api)\n",
    "decay_data = fetch_data(decay_api)\n"
   ]
  },
  {
   "cell_type": "code",
   "execution_count": 3,
   "id": "b8ac983d",
   "metadata": {},
   "outputs": [],
   "source": [
    "# Example of preprocessing - to be adjusted based on actual data structure\n",
    "def preprocess_data(data):\n",
    "    df = pd.DataFrame(data)\n",
    "    # Handle missing values, convert data types, etc.\n",
    "    df = df.dropna()  # Example: removing missing values\n",
    "    return df\n"
   ]
  },
  {
   "cell_type": "code",
   "execution_count": 28,
   "id": "62cafb37",
   "metadata": {},
   "outputs": [
    {
     "name": "stdout",
     "output_type": "stream",
     "text": [
      "Mean Squared Error for open: 147.73996122259823\n",
      "Mean Squared Error for high: 100.33977549507551\n",
      "Mean Squared Error for low: 30.637200309297192\n",
      "Mean Squared Error for close: 36.10593233044883\n",
      "Predicted values for the next day: {'open': 148.5493595382693, 'high': 148.54965968207676, 'low': 9.149886450019755, 'close': 15.349797469333481}\n"
     ]
    }
   ],
   "source": [
    "from sklearn.ensemble import GradientBoostingRegressor\n",
    "\n",
    "# Initialize the predictions dictionary\n",
    "predictions = {}\n",
    "\n",
    "# Loop through each feature to create a model and predict the next day's value\n",
    "for feature in ['open', 'high', 'low', 'close']:\n",
    "    # Separate features and target for modeling\n",
    "    X = df.drop(feature, axis=1)\n",
    "    y = df[feature]\n",
    "\n",
    "    # Split the data into training and testing sets\n",
    "    X_train, X_test, y_train, y_test = train_test_split(X, y, test_size=0.2, random_state=42)\n",
    "\n",
    "    # Initialize and train the model\n",
    "    model = GradientBoostingRegressor(random_state=42)\n",
    "    model.fit(X_train, y_train)\n",
    "\n",
    "    # Evaluate the model\n",
    "    test_predictions = model.predict(X_test)\n",
    "    mse = mean_squared_error(y_test, test_predictions)\n",
    "    print(f\"Mean Squared Error for {feature}: {mse}\")\n",
    "\n",
    "    # Predict the next day's value using the trained model\n",
    "    next_day_data = df.iloc[-1].drop(feature)\n",
    "    next_day_df = pd.DataFrame([next_day_data], columns=X_train.columns)\n",
    "\n",
    "    next_day_prediction = model.predict(next_day_df)\n",
    "    predictions[feature] = next_day_prediction[0]\n",
    "\n",
    "print(f\"Predicted values for the next day: {predictions}\")\n"
   ]
  }
 ],
 "metadata": {
  "kernelspec": {
   "display_name": "Python 3 (ipykernel)",
   "language": "python",
   "name": "python3"
  },
  "language_info": {
   "codemirror_mode": {
    "name": "ipython",
    "version": 3
   },
   "file_extension": ".py",
   "mimetype": "text/x-python",
   "name": "python",
   "nbconvert_exporter": "python",
   "pygments_lexer": "ipython3",
   "version": "3.11.5"
  }
 },
 "nbformat": 4,
 "nbformat_minor": 5
}
